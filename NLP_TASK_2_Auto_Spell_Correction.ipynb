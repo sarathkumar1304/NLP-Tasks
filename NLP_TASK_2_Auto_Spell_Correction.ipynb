{
  "nbformat": 4,
  "nbformat_minor": 0,
  "metadata": {
    "colab": {
      "provenance": [],
      "authorship_tag": "ABX9TyMa2ONM4LsZs0aIaC/yjGMB",
      "include_colab_link": true
    },
    "kernelspec": {
      "name": "python3",
      "display_name": "Python 3"
    },
    "language_info": {
      "name": "python"
    }
  },
  "cells": [
    {
      "cell_type": "markdown",
      "metadata": {
        "id": "view-in-github",
        "colab_type": "text"
      },
      "source": [
        "<a href=\"https://colab.research.google.com/github/sarathkumar1304/NLP-Tasks/blob/main/NLP_TASK_2_Auto_Spell_Correction.ipynb\" target=\"_parent\"><img src=\"https://colab.research.google.com/assets/colab-badge.svg\" alt=\"Open In Colab\"/></a>"
      ]
    },
    {
      "cell_type": "markdown",
      "source": [
        "# Spell check and correction[NLP, Python]"
      ],
      "metadata": {
        "id": "QcxMwAsyYwQy"
      }
    },
    {
      "cell_type": "markdown",
      "source": [
        "In Natural Language Processing it’s important that spelling errors should be as less as possible so that whatever we are making should be highly accurate. There are libraries that does this tedious task, instead of you to do all checking and correction."
      ],
      "metadata": {
        "id": "ofKvs4-OY2Ha"
      }
    },
    {
      "cell_type": "markdown",
      "source": [
        "### Here we use three **Libaraies**\n",
        "1.   Jamspell\n",
        "2.   TextBlob\n",
        "3.   Autocorrect\n",
        "\n",
        "\n",
        "\n",
        "\n",
        "\n",
        "\n",
        "\n"
      ],
      "metadata": {
        "id": "NzTXFNkKZBBZ"
      }
    },
    {
      "cell_type": "markdown",
      "source": [
        "Jamspell **pip install jamspell** is a modern spellchecking library. It is light-weight, fast and accurate. It consider word surroundings to make better corrections. It has following features:\n",
        " It considers words surroundings (context) for better **correction**\n",
        "**Nearly 5K words per second**\n",
        "Multi-language →it’s written in C++ and available for many languages with swig bindings"
      ],
      "metadata": {
        "id": "qi35GOshZ4Yw"
      }
    },
    {
      "cell_type": "markdown",
      "source": [
        "### While you go directly to  install jamspell by !pip install jamspell it shows an error in building wheels ,then you need to follow the below codes to install jamspell"
      ],
      "metadata": {
        "id": "29gfOsRZBZHC"
      }
    },
    {
      "cell_type": "code",
      "source": [
        "!sudo apt-get install swig"
      ],
      "metadata": {
        "colab": {
          "base_uri": "https://localhost:8080/"
        },
        "id": "1Gslkjml95eb",
        "outputId": "3671285e-b059-4397-8615-20ee117aa5b2"
      },
      "execution_count": null,
      "outputs": [
        {
          "output_type": "stream",
          "name": "stdout",
          "text": [
            "Reading package lists... Done\n",
            "Building dependency tree       \n",
            "Reading state information... Done\n",
            "The following package was automatically installed and is no longer required:\n",
            "  libnvidia-common-460\n",
            "Use 'sudo apt autoremove' to remove it.\n",
            "The following additional packages will be installed:\n",
            "  swig3.0\n",
            "Suggested packages:\n",
            "  swig-doc swig-examples swig3.0-examples swig3.0-doc\n",
            "The following NEW packages will be installed:\n",
            "  swig swig3.0\n",
            "0 upgraded, 2 newly installed, 0 to remove and 20 not upgraded.\n",
            "Need to get 1,100 kB of archives.\n",
            "After this operation, 5,822 kB of additional disk space will be used.\n",
            "Get:1 http://archive.ubuntu.com/ubuntu bionic/universe amd64 swig3.0 amd64 3.0.12-1 [1,094 kB]\n",
            "Get:2 http://archive.ubuntu.com/ubuntu bionic/universe amd64 swig amd64 3.0.12-1 [6,460 B]\n",
            "Fetched 1,100 kB in 1s (1,494 kB/s)\n",
            "debconf: unable to initialize frontend: Dialog\n",
            "debconf: (No usable dialog-like program is installed, so the dialog based frontend cannot be used. at /usr/share/perl5/Debconf/FrontEnd/Dialog.pm line 76, <> line 2.)\n",
            "debconf: falling back to frontend: Readline\n",
            "debconf: unable to initialize frontend: Readline\n",
            "debconf: (This frontend requires a controlling tty.)\n",
            "debconf: falling back to frontend: Teletype\n",
            "dpkg-preconfigure: unable to re-open stdin: \n",
            "Selecting previously unselected package swig3.0.\n",
            "(Reading database ... 124016 files and directories currently installed.)\n",
            "Preparing to unpack .../swig3.0_3.0.12-1_amd64.deb ...\n",
            "Unpacking swig3.0 (3.0.12-1) ...\n",
            "Selecting previously unselected package swig.\n",
            "Preparing to unpack .../swig_3.0.12-1_amd64.deb ...\n",
            "Unpacking swig (3.0.12-1) ...\n",
            "Setting up swig3.0 (3.0.12-1) ...\n",
            "Setting up swig (3.0.12-1) ...\n",
            "Processing triggers for man-db (2.8.3-2ubuntu0.1) ...\n"
          ]
        }
      ]
    },
    {
      "cell_type": "code",
      "source": [
        "!sudo pip install jamspell"
      ],
      "metadata": {
        "colab": {
          "base_uri": "https://localhost:8080/"
        },
        "id": "JLT56UW7-CMC",
        "outputId": "133ffb13-f935-4d23-91df-de4cd1fd3e5f"
      },
      "execution_count": null,
      "outputs": [
        {
          "output_type": "stream",
          "name": "stdout",
          "text": [
            "Looking in indexes: https://pypi.org/simple, https://us-python.pkg.dev/colab-wheels/public/simple/\n",
            "Collecting jamspell\n",
            "  Downloading jamspell-0.0.12.tar.gz (174 kB)\n",
            "\u001b[K     |████████████████████████████████| 174 kB 33.7 MB/s \n",
            "\u001b[?25hBuilding wheels for collected packages: jamspell\n",
            "  Building wheel for jamspell (setup.py) ... \u001b[?25l\u001b[?25hdone\n",
            "  Created wheel for jamspell: filename=jamspell-0.0.12-cp38-cp38-linux_x86_64.whl size=1345867 sha256=1f7de5061b5dbfb360194af9dd32673d70a1134744a25910d63ab086a43defcb\n",
            "  Stored in directory: /root/.cache/pip/wheels/a0/0e/d3/b645dfed8ed118ee3adad4eb61787ad0e558369f4728ea5a8b\n",
            "Successfully built jamspell\n",
            "Installing collected packages: jamspell\n",
            "Successfully installed jamspell-0.0.12\n"
          ]
        }
      ]
    },
    {
      "cell_type": "code",
      "source": [
        "!wget https://github.com/bakwc/JamSpell-models/raw/master/en.tar.gz"
      ],
      "metadata": {
        "colab": {
          "base_uri": "https://localhost:8080/"
        },
        "id": "G1blVMkS-H_f",
        "outputId": "ad3342df-2f09-444d-8c54-f4d33ad840e7"
      },
      "execution_count": null,
      "outputs": [
        {
          "output_type": "stream",
          "name": "stdout",
          "text": [
            "--2022-12-30 09:19:47--  https://github.com/bakwc/JamSpell-models/raw/master/en.tar.gz\n",
            "Resolving github.com (github.com)... 140.82.112.4\n",
            "Connecting to github.com (github.com)|140.82.112.4|:443... connected.\n",
            "HTTP request sent, awaiting response... 302 Found\n",
            "Location: https://raw.githubusercontent.com/bakwc/JamSpell-models/master/en.tar.gz [following]\n",
            "--2022-12-30 09:19:47--  https://raw.githubusercontent.com/bakwc/JamSpell-models/master/en.tar.gz\n",
            "Resolving raw.githubusercontent.com (raw.githubusercontent.com)... 185.199.111.133, 185.199.109.133, 185.199.108.133, ...\n",
            "Connecting to raw.githubusercontent.com (raw.githubusercontent.com)|185.199.111.133|:443... connected.\n",
            "HTTP request sent, awaiting response... 200 OK\n",
            "Length: 36611828 (35M) [application/octet-stream]\n",
            "Saving to: ‘en.tar.gz’\n",
            "\n",
            "en.tar.gz           100%[===================>]  34.92M  --.-KB/s    in 0.08s   \n",
            "\n",
            "2022-12-30 09:19:47 (449 MB/s) - ‘en.tar.gz’ saved [36611828/36611828]\n",
            "\n"
          ]
        }
      ]
    },
    {
      "cell_type": "code",
      "source": [
        "!tar -xvf en.tar.gz"
      ],
      "metadata": {
        "colab": {
          "base_uri": "https://localhost:8080/"
        },
        "id": "dIzBXMnF-jrs",
        "outputId": "0a7c4f77-cdfd-43ab-b202-1054a102aae5"
      },
      "execution_count": null,
      "outputs": [
        {
          "output_type": "stream",
          "name": "stdout",
          "text": [
            "en.bin\n"
          ]
        }
      ]
    },
    {
      "cell_type": "code",
      "source": [
        "!pip install colorama"
      ],
      "metadata": {
        "colab": {
          "base_uri": "https://localhost:8080/"
        },
        "id": "trb19ShPVLv9",
        "outputId": "795ccf86-acc0-4b9a-8325-c7c3d3c3f19c"
      },
      "execution_count": null,
      "outputs": [
        {
          "output_type": "stream",
          "name": "stdout",
          "text": [
            "Looking in indexes: https://pypi.org/simple, https://us-python.pkg.dev/colab-wheels/public/simple/\n",
            "Collecting colorama\n",
            "  Downloading colorama-0.4.6-py2.py3-none-any.whl (25 kB)\n",
            "Installing collected packages: colorama\n",
            "Successfully installed colorama-0.4.6\n"
          ]
        }
      ]
    },
    {
      "cell_type": "code",
      "source": [
        "import colorama\n",
        "from colorama import Fore"
      ],
      "metadata": {
        "id": "rUmGVcA9VTy2"
      },
      "execution_count": null,
      "outputs": []
    },
    {
      "cell_type": "markdown",
      "source": [
        "# Jam spell\n",
        "### It corrects 5k word per second then other libraries"
      ],
      "metadata": {
        "id": "EZZ7k3AaPBeG"
      }
    },
    {
      "cell_type": "code",
      "source": [
        "para_1 = \"wherre is the love hehad dated forImuch of the past who couqdn’tread in sixthgrade and ins pired him\""
      ],
      "metadata": {
        "id": "K723xpLiTMlu"
      },
      "execution_count": null,
      "outputs": []
    },
    {
      "cell_type": "code",
      "source": [
        "para_2 = \"\"\"As far as I am abl to judg, after long attnding to the sbject, the condiions of lfe apear to act in two ways—directly on the whle organsaton or on certin parts alne and indirectly by afcting the reproducte sstem. Wit respct to te dirct action, we mst bea in mid tht in every cse, as Profesor Weismann hs latly insistd, and as I have inidently shwn in my wrk on \"Variatin undr Domesticcation,\" thcere arae two factrs: namly, the natre of the orgnism and the natture of the condiions. The frmer sems to be much th mre importannt; foor nealy siimilar variations sometimes aris under, as far as we cn juddge, disimilar conditios; annd, on te oter hannd, disssimilar variatioons arise undder conditions which aappear to be nnearly uniiform. The efffects on tthe offspring arre ieither definnite or in definite. They maay be considdered as definnite whhen allc or neearly all thhe ofefspring off inadividuals exnposed tco ceertain conditionas duriing seveal ggenerations aree moodified in te saame maner.\"\"\""
      ],
      "metadata": {
        "id": "u_8ifN7wTWm9"
      },
      "execution_count": null,
      "outputs": []
    },
    {
      "cell_type": "code",
      "source": [
        "para_3 = \"\"\"Cinderella came frm a grea family. She is the only daughter of an affluent and widowrr duke who has rewed to provide her witha stepmom and two stepsistrs. Cinderella’s mother died due to illness when she was stilll a younng girl, leawing her with a doll, faworite dress, and a pair of glasss slipppers.\"\"\""
      ],
      "metadata": {
        "id": "FH1pzfOuTZlp"
      },
      "execution_count": null,
      "outputs": []
    },
    {
      "cell_type": "code",
      "source": [
        "import jamspell"
      ],
      "metadata": {
        "id": "m5Rmo7YN-pGy"
      },
      "execution_count": null,
      "outputs": []
    },
    {
      "cell_type": "code",
      "source": [
        "jsp=jamspell.TSpellCorrector()\n",
        "assert jsp.LoadLangModel('en.bin')"
      ],
      "metadata": {
        "id": "xvKRdOm4-tTL"
      },
      "execution_count": null,
      "outputs": []
    },
    {
      "cell_type": "code",
      "source": [
        "jsp.FixFragment(\"I am the begt speeell cherken\")"
      ],
      "metadata": {
        "colab": {
          "base_uri": "https://localhost:8080/",
          "height": 35
        },
        "id": "jQqLA05V_Edj",
        "outputId": "85c8b920-c181-41e3-8fdd-d091b0ff44c9"
      },
      "execution_count": null,
      "outputs": [
        {
          "output_type": "execute_result",
          "data": {
            "text/plain": [
              "'I am the best spell checker'"
            ],
            "application/vnd.google.colaboratory.intrinsic+json": {
              "type": "string"
            }
          },
          "metadata": {},
          "execution_count": 12
        }
      ]
    },
    {
      "cell_type": "code",
      "source": [
        "misspelled=input(\"Enter word : \")\n",
        "cor_spell=jsp.FixFragment(f'{misspelled}')\n",
        "print(cor_spell)"
      ],
      "metadata": {
        "colab": {
          "base_uri": "https://localhost:8080/"
        },
        "id": "hSGrW30nOaTB",
        "outputId": "51f12900-a5a7-4d48-f81c-e3e5caba5d18"
      },
      "execution_count": null,
      "outputs": [
        {
          "output_type": "stream",
          "name": "stdout",
          "text": [
            "Enter word : sepel\n",
            "repel\n"
          ]
        }
      ]
    },
    {
      "cell_type": "code",
      "source": [
        "print(Fore.BLUE+\"=======  correct spelling of the para_1  by jamspell  =========\")\n",
        "print()\n",
        "print(Fore.GREEN+jsp.FixFragment(para_1))\n",
        "print()\n",
        "print(Fore.BLUE+\"======= correct spelling of the para_2  by jam spell ===========\")\n",
        "print()\n",
        "print(Fore.GREEN+jsp.FixFragment(para_2))\n",
        "print()\n",
        "print(Fore.BLUE+\"======== correct spelling of the para_3  by jam spell ===========\")\n",
        "print()\n",
        "print(Fore.GREEN+jsp.FixFragment(para_3))\n",
        "print(\"------------------------------------------------------------------\")"
      ],
      "metadata": {
        "colab": {
          "base_uri": "https://localhost:8080/"
        },
        "id": "463Iobe1Ao33",
        "outputId": "3908b331-7144-460a-a8d1-9fc08a7565c4"
      },
      "execution_count": null,
      "outputs": [
        {
          "output_type": "stream",
          "name": "stdout",
          "text": [
            "\u001b[34m=======  correct spelling of the para_1  by jamspell  =========\n",
            "\n",
            "\u001b[32mwhere is the love head dated forImuch of the past who couldn’tread in sixthgrade and ins fired him\n",
            "\n",
            "\u001b[34m======= correct spelling of the para_2  by jam spell ===========\n",
            "\n",
            "\u001b[32mAs far as I am able to judg, after long attending to the subject, the conditions of life appear to act in two ways—directly on the whole organisation or on certain parts alone and indirectly by acting the reproduce system. Wit respect to the direct action, we mst bea in mid the in every case, as Professor Weismann hs lately insisted, and as I have incident shown in my work on \"Variation under Domestication,\" there are two factors: namely, the nature of the organism and the nature of the conditions. The former seems to be much th mre important; for nearly similar variations sometimes aris under, as far as we can judge, dissimilar conditions; and, on the other hand, dissimilar variations arise under conditions which appear to be nearly uniform. The effects on the offspring arre either definite or in definite. They may be considered as definite when all or nearly all the offspring off individuals exposed to certain conditions during several generations are modified in the same manner.\n",
            "\n",
            "\u001b[34m======== correct spelling of the para_3  by jam spell ===========\n",
            "\n",
            "\u001b[32mCinderella came from a great family. She is the only daughter of an affluent and widower duke who has reed to provide her with stepmom and two stepsistrs. Cinderella’s mother died due to illness when she was still a young girl, leaving her with a doll, favorite dress, and a pair of glasses slippers.\n",
            "------------------------------------------------------------------\n"
          ]
        }
      ]
    },
    {
      "cell_type": "markdown",
      "source": [
        "### Textblob **pip install textblob** textblob’s spelling correction is based on Peter Norvig’s “How to Write a Spelling Corrector” as implemented in the pattern library."
      ],
      "metadata": {
        "id": "C6MO9uzcaYJS"
      }
    },
    {
      "cell_type": "markdown",
      "source": [
        "# Text Bolb"
      ],
      "metadata": {
        "id": "CCCYtJAoQfIe"
      }
    },
    {
      "cell_type": "code",
      "source": [
        "!pip install textblob"
      ],
      "metadata": {
        "id": "dYS83U-rC9EA",
        "colab": {
          "base_uri": "https://localhost:8080/"
        },
        "outputId": "bf48ade7-8cef-4208-d790-7a7d19851426"
      },
      "execution_count": null,
      "outputs": [
        {
          "output_type": "stream",
          "name": "stdout",
          "text": [
            "Looking in indexes: https://pypi.org/simple, https://us-python.pkg.dev/colab-wheels/public/simple/\n",
            "Requirement already satisfied: textblob in /usr/local/lib/python3.8/dist-packages (0.15.3)\n",
            "Requirement already satisfied: nltk>=3.1 in /usr/local/lib/python3.8/dist-packages (from textblob) (3.7)\n",
            "Requirement already satisfied: regex>=2021.8.3 in /usr/local/lib/python3.8/dist-packages (from nltk>=3.1->textblob) (2022.6.2)\n",
            "Requirement already satisfied: tqdm in /usr/local/lib/python3.8/dist-packages (from nltk>=3.1->textblob) (4.64.1)\n",
            "Requirement already satisfied: click in /usr/local/lib/python3.8/dist-packages (from nltk>=3.1->textblob) (7.1.2)\n",
            "Requirement already satisfied: joblib in /usr/local/lib/python3.8/dist-packages (from nltk>=3.1->textblob) (1.2.0)\n"
          ]
        }
      ]
    },
    {
      "cell_type": "code",
      "source": [
        "from textblob import TextBlob\n",
        "print(Fore.BLUE+\"========== correct spell of the para_1 by text bolb=========\")\n",
        "print()\n",
        "mispelled=str(TextBlob(para_1).correct())\n",
        "print(Fore.GREEN+mispelled)\n",
        "print()\n",
        "print(Fore.BLUE+\"========= correct spell of the para_2 by text blob ===========\")\n",
        "print()\n",
        "mispelled2=str(TextBlob(para_2).correct())\n",
        "print(Fore.GREEN+mispelled2)\n",
        "print()\n",
        "print(Fore.BLUE+\"========= correct spell of the para_3 by text blob ============\")\n",
        "print()\n",
        "mispelled3=str(TextBlob(para_3).correct())\n",
        "print(Fore.GREEN+mispelled3)\n",
        "print()\n",
        "print(Fore.BLACK+\"------------------------------------------------------------------------------\")"
      ],
      "metadata": {
        "colab": {
          "base_uri": "https://localhost:8080/"
        },
        "id": "aWofy66LDCFh",
        "outputId": "f8969c87-0eec-422b-df61-7327bc0ad10c"
      },
      "execution_count": null,
      "outputs": [
        {
          "output_type": "stream",
          "name": "stdout",
          "text": [
            "\u001b[34m========== correct spell of the para_1 by text bolb=========\n",
            "\n",
            "\u001b[32mwhere is the love head dated forImuch of the past who couldn’tread in sixthgrade and in tired him\n",
            "\n",
            "\u001b[34m========= correct spell of the para_2 by text blob ===========\n",
            "\n",
            "\u001b[32mIs far as I am all to judge, after long attending to the subject, the conditions of life appear to act in two ways—directly on the while organisation or on certain parts alone and indirectly by acting the reproduce system. It respect to te direct action, we must be in mid the in every case, as Professor Weismann he lately insisted, and as I have evidently shown in my work on \"Variation under Domesticcation,\" there are two facts: namely, the nature of the organism and the nature of the conditions. The former seems to be much th are important; for nearly similar variations sometimes arms under, as far as we in judge, similar condition; and, on te other hand, disssimilar variations arise under conditions which appear to be nearly uniform. The effects on the offspring are either definite or in definite. They may be considered as definite when all or nearly all the offspring off individuals exposed to certain conditions during several generations are modified in te same manner.\n",
            "\n",
            "\u001b[34m========= correct spell of the para_3 by text blob ============\n",
            "\n",
            "\u001b[32mCinderella came from a great family. The is the only daughter of an affluent and widower duke who has reed to provide her with stepmom and two stepsistrs. Cinderella’s mother died due to illness when she was still a young girl, leaving her with a doll, favorite dress, and a pair of glass slippers.\n",
            "\n",
            "\u001b[30m------------------------------------------------------------------------------\n"
          ]
        }
      ]
    },
    {
      "cell_type": "markdown",
      "source": [
        "# Auto correct"
      ],
      "metadata": {
        "id": "nkER_4Ntddxc"
      }
    },
    {
      "cell_type": "code",
      "source": [
        "!pip install autocorrect"
      ],
      "metadata": {
        "colab": {
          "base_uri": "https://localhost:8080/"
        },
        "id": "_7oUjexEdi22",
        "outputId": "0a8e7218-afd5-4eb4-9b28-3d050fdb30eb"
      },
      "execution_count": null,
      "outputs": [
        {
          "output_type": "stream",
          "name": "stdout",
          "text": [
            "Looking in indexes: https://pypi.org/simple, https://us-python.pkg.dev/colab-wheels/public/simple/\n",
            "Collecting autocorrect\n",
            "  Downloading autocorrect-2.6.1.tar.gz (622 kB)\n",
            "\u001b[K     |████████████████████████████████| 622 kB 24.3 MB/s \n",
            "\u001b[?25hBuilding wheels for collected packages: autocorrect\n",
            "  Building wheel for autocorrect (setup.py) ... \u001b[?25l\u001b[?25hdone\n",
            "  Created wheel for autocorrect: filename=autocorrect-2.6.1-py3-none-any.whl size=622381 sha256=aa139ffe050b2754b4459cf85796267e1f4eba58b63be0e24860d19fd60629b4\n",
            "  Stored in directory: /root/.cache/pip/wheels/72/b8/3b/a90246d13090e85394a8a44b78c8abf577c0766f29d6543c75\n",
            "Successfully built autocorrect\n",
            "Installing collected packages: autocorrect\n",
            "Successfully installed autocorrect-2.6.1\n"
          ]
        }
      ]
    },
    {
      "cell_type": "code",
      "source": [
        "from autocorrect import Speller\n",
        "spell=Speller('en')\n",
        "spell(para_1)"
      ],
      "metadata": {
        "colab": {
          "base_uri": "https://localhost:8080/",
          "height": 35
        },
        "id": "KDEtJSyrdn8V",
        "outputId": "08bd5b7d-1d3b-41bc-c232-e96a76cae1d4"
      },
      "execution_count": null,
      "outputs": [
        {
          "output_type": "execute_result",
          "data": {
            "text/plain": [
              "'where is the love head dated forImuch of the past who couldn’tread in sixthgrade and ins aired him'"
            ],
            "application/vnd.google.colaboratory.intrinsic+json": {
              "type": "string"
            }
          },
          "metadata": {},
          "execution_count": 18
        }
      ]
    },
    {
      "cell_type": "code",
      "source": [
        "wrong_spell=spell(para_1)\n",
        "wrong_spell2=spell(para_2)\n",
        "wrong_spell3=spell(para_3)\n",
        "print(Fore.BLUE+\"==================== correct spell by the autocorrect ====================\")\n",
        "print()\n",
        "print(Fore.GREEN+wrong_spell)\n",
        "print()\n",
        "print(Fore.BLUE+\"=====================correct spell by the autocorrect ====================\")\n",
        "print()\n",
        "print(Fore.GREEN+wrong_spell2)\n",
        "print()\n",
        "print(Fore.BLUE+\"======================correct spell by the autocorrect ====================\")\n",
        "print()\n",
        "print(Fore.GREEN+wrong_spell3)\n",
        "print()\n",
        "print(Fore.BLACK+\"-----------------------------------------------------------------------------\")\n",
        "\n"
      ],
      "metadata": {
        "colab": {
          "base_uri": "https://localhost:8080/"
        },
        "id": "CbAe41lxeD_r",
        "outputId": "977043c6-da63-45e1-dd96-df1b3d06da28"
      },
      "execution_count": null,
      "outputs": [
        {
          "output_type": "stream",
          "name": "stdout",
          "text": [
            "\u001b[34m==================== correct spell by the autocorrect ====================\n",
            "\n",
            "\u001b[32mwhere is the love head dated forImuch of the past who couldn’tread in sixthgrade and ins aired him\n",
            "\n",
            "\u001b[34m=====================correct spell by the autocorrect ====================\n",
            "\n",
            "\u001b[32mAs far as I am abl to judge, after long attending to the subject, the conditions of lfe appear to act in two ways—directly on the while organisation or on certain parts alone and indirectly by acting the reproduce system. Wit respect to te direct action, we mst bea in mid the in every cse, as Professor Weisman hs lately insisted, and as I have evidently shown in my work on \"Variation under Domestication,\" there are two facts: namely, the nature of the organism and the nature of the conditions. The former seems to be much th are important; for nearly similar variations sometimes arts under, as far as we cn judge, dissimilar conditions; and, on te other hand, dissimilar variations arise under conditions which appear to be nearly uniform. The effects on the offspring are either definite or in definite. They may be considered as definite when all or nearly all the offspring off individuals exposed to certain conditions during several generations are modified in te same mater.\n",
            "\n",
            "\u001b[34m======================correct spell by the autocorrect ====================\n",
            "\n",
            "\u001b[32mCinderella came frm a area family. She is the only daughter of an affluent and widower duke who has reed to provide her with stepson and two stepsistrs. Cinderella’s mother died due to illness when she was still a young girl, leading her with a doll, favorite dress, and a pair of glass slippers.\n",
            "\n",
            "\u001b[30m-----------------------------------------------------------------------------\n"
          ]
        }
      ]
    }
  ]
}